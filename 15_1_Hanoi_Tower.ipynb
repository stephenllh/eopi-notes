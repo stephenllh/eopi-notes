{
 "cells": [
  {
   "cell_type": "markdown",
   "id": "complete-marine",
   "metadata": {},
   "source": [
    "Break down into 3 steps, 2 of which are recursive.\n",
    "1. Transfer (n-1) rings from source peg to intermediate peg. (Recursive)\n",
    "2. Transfer bottom, largest ring from source peg to destination peg.\n",
    "3. Transfer those (n-1) rings from intermediate peg to destination peg. (Recursive)"
   ]
  },
  {
   "cell_type": "code",
   "execution_count": 2,
   "id": "apparent-glance",
   "metadata": {},
   "outputs": [],
   "source": [
    "def hanoi_tower(num_rings):\n",
    "\n",
    "    src_peg = [list(reversed(range(1, num_rings + 1)))]\n",
    "    other_pegs = [[] for _ in range(1, NUM_PEGS)]\n",
    "    \n",
    "    # `pegs` is a list of 3 lists (src, dest, and inter)\n",
    "    pegs = src_peg + other_pegs\n",
    "    print(\"pegs\", pegs)\n",
    "    # These indexes are arbitrary\n",
    "    SRC, DEST, INTER = 0, 1, 2\n",
    "\n",
    "    # The output. Is global for the nested function `transfer` below\n",
    "    result = [] \n",
    "\n",
    "    def transfer(num_rings_to_move, src, dest, inter):\n",
    "        \"\"\"\n",
    "        num_rings_to_move (int): self-explanatory\n",
    "        src (int): the index of the source peg\n",
    "        dest (int): the index of the destination peg\n",
    "        inter (int): the index of the intermediate peg\n",
    "        \"\"\"\n",
    "        if num_rings_to_move > 0:\n",
    "            \n",
    "            # Transfer all rings except the largest from source peg to intermediate peg.\n",
    "            # This is a sub-problem for number of rings = `num_rings_to_move - 1`,\n",
    "            # but with the destination peg and intermediate peg swapped.\n",
    "            transfer(num_rings_to_move - 1, src, inter, dest)\n",
    "            \n",
    "            # Conceptually, we transfer the largest, bottom ring from source peg to destination peg (see step 2).\n",
    "            # In reality, we transfer the top, smallest ring. (Because we are only allowed to do so.)\n",
    "            # But in turns out, both require transferring 1 ring from the source peg to destination peg anyway.\n",
    "            # (Think of the n=1 case.)\n",
    "            # (This is also why recursion works here.)\n",
    "            src_rings = pegs[src].pop()  # a list of rings indexed by their sizes (e.g. [2, 3])        \n",
    "            pegs[dest].append(src_rings)\n",
    "            print(\"pegs\", pegs)\n",
    "            result.append([src, dest])\n",
    "\n",
    "            # Transfer rings from the intermediate peg to the destination peg,\n",
    "            # using the source peg as the intermediate.\n",
    "            # This is a sub-problem for number of rings = `num_rings_to_move - 1`,\n",
    "            # but with the source peg and intermediate peg swapped.\n",
    "            transfer(num_rings_to_move - 1, inter, dest, src)\n",
    "\n",
    "\n",
    "    transfer(num_rings, SRC, DEST, INTER)\n",
    "    return result"
   ]
  },
  {
   "cell_type": "code",
   "execution_count": 3,
   "id": "stopped-indian",
   "metadata": {},
   "outputs": [
    {
     "name": "stdout",
     "output_type": "stream",
     "text": [
      "pegs [[3, 2, 1], [], []]\n",
      "pegs [[3, 2], [1], []]\n",
      "pegs [[3], [1], [2]]\n",
      "pegs [[3], [], [2, 1]]\n",
      "pegs [[], [3], [2, 1]]\n",
      "pegs [[1], [3], [2]]\n",
      "pegs [[1], [3, 2], []]\n",
      "pegs [[], [3, 2, 1], []]\n"
     ]
    },
    {
     "data": {
      "text/plain": [
       "[[0, 1], [0, 2], [1, 2], [0, 1], [2, 0], [2, 1], [0, 1]]"
      ]
     },
     "execution_count": 3,
     "metadata": {},
     "output_type": "execute_result"
    }
   ],
   "source": [
    "NUM_PEGS = 3\n",
    "hanoi_tower(NUM_PEGS)"
   ]
  }
 ],
 "metadata": {
  "kernelspec": {
   "display_name": "Python 3",
   "language": "python",
   "name": "python3"
  },
  "language_info": {
   "codemirror_mode": {
    "name": "ipython",
    "version": 3
   },
   "file_extension": ".py",
   "mimetype": "text/x-python",
   "name": "python",
   "nbconvert_exporter": "python",
   "pygments_lexer": "ipython3",
   "version": "3.6.8"
  },
  "toc": {
   "base_numbering": 1,
   "nav_menu": {},
   "number_sections": true,
   "sideBar": true,
   "skip_h1_title": false,
   "title_cell": "Table of Contents",
   "title_sidebar": "Contents",
   "toc_cell": false,
   "toc_position": {},
   "toc_section_display": true,
   "toc_window_display": false
  }
 },
 "nbformat": 4,
 "nbformat_minor": 5
}
