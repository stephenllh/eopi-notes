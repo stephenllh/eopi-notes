{
 "cells": [
  {
   "cell_type": "markdown",
   "id": "macro-chain",
   "metadata": {},
   "source": [
    "### Recursion problem"
   ]
  },
  {
   "cell_type": "code",
   "execution_count": 3,
   "id": "acquired-charles",
   "metadata": {},
   "outputs": [],
   "source": [
    "def hanoi_tower(num_rings):\n",
    "\n",
    "    src_peg = [list(reversed(range(1, num_rings + 1)))]\n",
    "    other_pegs = [[] for _ in range(1, NUM_PEGS)]\n",
    "    \n",
    "    # `pegs` is a list of 3 lists (src, dest, and inter)\n",
    "    pegs = src_peg + other_pegs\n",
    "\n",
    "    # The output. Is global for the nested function `transfer` below\n",
    "    result = [] \n",
    "\n",
    "    def transfer(num_rings_to_move, src, dest, inter):\n",
    "        \"\"\"\n",
    "        num_rings_to_move (int): self-explanatory\n",
    "        src (int): the index of the source peg\n",
    "        dest (int): the index of the destination peg\n",
    "        inter (int): the index of the intermediate peg\n",
    "        \"\"\"\n",
    "        if num_rings_to_move > 0:\n",
    "            \n",
    "            # Transfer all rings except the largest from source peg to intermediate peg.\n",
    "            # This is a sub-problem for number of rings = `num_rings_to_move - 1`,\n",
    "            # but with the destination peg and intermediate peg swapped.\n",
    "            transfer(num_rings_to_move - 1, src, inter, dest)\n",
    "            \n",
    "            # Update the number of rings for the destination peg\n",
    "            num_rings_src = pegs[src].pop()\n",
    "            pegs[dest].append(num_rings_src)\n",
    "            \n",
    "            # Record the step taken: rings are transferred from which peg to which peg.\n",
    "            result.append([src, dest])\n",
    "            \n",
    "            # Transfer rings from the intermediate peg to the destination peg,\n",
    "            # using the source peg as the intermediate.\n",
    "            # This is a sub-problem for number of rings = `num_rings_to_move - 1`,\n",
    "            # but with the all the pegs swapped.\n",
    "            transfer(num_rings_to_move - 1, inter, dest, src)\n",
    "    \n",
    "    # These indexes are arbitrary\n",
    "    SRC, DEST, INTER = 0, 1, 2\n",
    "    transfer(num_rings, SRC, DEST, INTER)\n",
    "    return result"
   ]
  },
  {
   "cell_type": "code",
   "execution_count": 4,
   "id": "offshore-semiconductor",
   "metadata": {},
   "outputs": [
    {
     "data": {
      "text/plain": [
       "[[0, 1], [0, 2], [1, 2], [0, 1], [2, 0], [2, 1], [0, 1]]"
      ]
     },
     "execution_count": 4,
     "metadata": {},
     "output_type": "execute_result"
    }
   ],
   "source": [
    "NUM_PEGS = 3\n",
    "hanoi_tower(NUM_PEGS)"
   ]
  },
  {
   "cell_type": "code",
   "execution_count": null,
   "id": "funny-sleeve",
   "metadata": {},
   "outputs": [],
   "source": []
  }
 ],
 "metadata": {
  "kernelspec": {
   "display_name": "Python 3",
   "language": "python",
   "name": "python3"
  },
  "language_info": {
   "codemirror_mode": {
    "name": "ipython",
    "version": 3
   },
   "file_extension": ".py",
   "mimetype": "text/x-python",
   "name": "python",
   "nbconvert_exporter": "python",
   "pygments_lexer": "ipython3",
   "version": "3.6.8"
  },
  "toc": {
   "base_numbering": 1,
   "nav_menu": {},
   "number_sections": true,
   "sideBar": true,
   "skip_h1_title": false,
   "title_cell": "Table of Contents",
   "title_sidebar": "Contents",
   "toc_cell": false,
   "toc_position": {},
   "toc_section_display": true,
   "toc_window_display": false
  }
 },
 "nbformat": 4,
 "nbformat_minor": 5
}
